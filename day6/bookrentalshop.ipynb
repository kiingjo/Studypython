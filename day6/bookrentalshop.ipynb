{
 "cells": [
  {
   "cell_type": "markdown",
   "metadata": {},
   "source": [
    "# BookRentalShop on jupyter Notebook"
   ]
  },
  {
   "cell_type": "code",
   "execution_count": 1,
   "metadata": {},
   "outputs": [],
   "source": [
    "import cx_Oracle as ora"
   ]
  },
  {
   "cell_type": "markdown",
   "metadata": {},
   "source": [
    "#### DB연결 함수\n",
    " 사용법\n",
    "   > myconn()"
   ]
  },
  {
   "cell_type": "code",
   "execution_count": 8,
   "metadata": {},
   "outputs": [],
   "source": [
    "def myconn(): \n",
    "    dsn = ora.makedsn('localhost', 1521, service_name = 'orcl') \n",
    "    conn = ora.connect(user = 'scott', password = 'tiger', dsn=dsn, encoding = 'utf-8')\n",
    "    return conn"
   ]
  },
  {
   "cell_type": "markdown",
   "metadata": {},
   "source": [
    "#### Divtbl 전체조회 함수\n",
    "사용법\n",
    "> getalldate_from_divtbl(conn) # conn은 연결객체"
   ]
  },
  {
   "cell_type": "code",
   "execution_count": 2,
   "metadata": {},
   "outputs": [],
   "source": [
    "def getalldata_from_divtbl(conn):\n",
    "    cur = conn.cursor() # 커서생성\n",
    "    query = 'select * from divtbl' # 원하는 쿼리\n",
    "    \n",
    "    for row in cur.execute(query): # 쿼리 제일 위에 커서 두고 데이터를\n",
    "        print(row) # 한줄씩 읽어온다.\n"
   ]
  },
  {
   "cell_type": "markdown",
   "metadata": {},
   "source": [
    "#### Divtbl에 신규 장르정보 입력\n",
    "사용법\n",
    "tup = (division, names)\n",
    "> setdata_into_divtbl(conn,tup)\n"
   ]
  },
  {
   "cell_type": "code",
   "execution_count": 3,
   "metadata": {},
   "outputs": [],
   "source": [
    "def setdata_into_divtbl(conn,tup): # SQL에서 insert하는 것을 파이썬에서 조작하기 위한 함수\n",
    "    cur = conn.cursor()\n",
    "    query = '''INSERT INTO divtbl (division, names) \n",
    "                VALUES (:1, :2) '''\n",
    "    cur.execute(query, tup)\n",
    "    cur.close()\n",
    "    conn.commit() # insert작업 후 commit 필수!!!!\n"
   ]
  },
  {
   "cell_type": "markdown",
   "metadata": {},
   "source": [
    "#### 책 대여 프로그램 시작"
   ]
  },
  {
   "cell_type": "code",
   "execution_count": 9,
   "metadata": {},
   "outputs": [
    {
     "name": "stdout",
     "output_type": "stream",
     "text": [
      "접속\n"
     ]
    }
   ],
   "source": [
    "scott_con = myconn()\n",
    "print('접속')"
   ]
  },
  {
   "cell_type": "markdown",
   "metadata": {},
   "source": [
    "#### 책장르 정보조회\n",
    "> getalldata_from_divtbl(conn)"
   ]
  },
  {
   "cell_type": "code",
   "execution_count": 10,
   "metadata": {},
   "outputs": [],
   "source": [
    "def getalldata_from_divtbl(conn):\n",
    "    cur = conn.cursor() # 커서생성\n",
    "    query = 'select * from divtbl' # 원하는 쿼리\n",
    "    \n",
    "    for row in cur.execute(query): # 쿼리 제일 위에 커서 두고 데이터를\n",
    "        print(row) # 한줄씩 읽어온다.\n"
   ]
  },
  {
   "cell_type": "markdown",
   "metadata": {},
   "source": [
    "#### 책장르 정보입력"
   ]
  },
  {
   "cell_type": "code",
   "execution_count": 12,
   "metadata": {},
   "outputs": [],
   "source": [
    "def setdata_into_divtbl(conn,tup): # SQL에서 insert하는 것을 파이썬에서 조작하기 위한 함수\n",
    "    cur = conn.cursor()\n",
    "    query = '''INSERT INTO divtbl (division, names) \n",
    "                VALUES (:1, :2) '''\n",
    "    cur.execute(query, tup)\n",
    "    cur.close()\n",
    "    conn.commit()"
   ]
  },
  {
   "cell_type": "markdown",
   "metadata": {},
   "source": [
    "#### 회원정보 조회\n",
    "> getsomedata_from_membertbl(scott_con)"
   ]
  },
  {
   "cell_type": "code",
   "execution_count": 14,
   "metadata": {},
   "outputs": [],
   "source": [
    "def getsomedata_from_membertbl(conn): # 데이터 가지고 온다\n",
    "    cur = conn.cursor() # 커서생성\n",
    "    query = '''SELECT names, levels, addr, mobile, email \n",
    "            FROM membertbl\n",
    "            WHERE addr LIKE '서울%'\n",
    "            AND UPPER(email) LIKE '%@NAVER.COM'\n",
    "            ORDER BY idx DESC'''\n",
    "    \n",
    "    for row in cur.execute(query): # 쿼리 제일 위에 커서 두고 데이터를\n",
    "        print(row) # 한줄씩 읽어온다.\n",
    "\n",
    "    cur.close() # 원래는 커서 실행한다음에는 cur.close()해줘야 한다\n"
   ]
  },
  {
   "cell_type": "code",
   "execution_count": null,
   "metadata": {},
   "outputs": [],
   "source": []
  }
 ],
 "metadata": {
  "interpreter": {
   "hash": "e5bc2cf9d9a3d85fb4b9cf5c2acdd222f933ac2e5b2df75a3f82eb3e684a5541"
  },
  "kernelspec": {
   "display_name": "Python 3.10.1 64-bit",
   "language": "python",
   "name": "python3"
  },
  "language_info": {
   "codemirror_mode": {
    "name": "ipython",
    "version": 3
   },
   "file_extension": ".py",
   "mimetype": "text/x-python",
   "name": "python",
   "nbconvert_exporter": "python",
   "pygments_lexer": "ipython3",
   "version": "3.10.1"
  },
  "orig_nbformat": 4
 },
 "nbformat": 4,
 "nbformat_minor": 2
}
