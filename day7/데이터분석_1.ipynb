{
 "cells": [
  {
   "cell_type": "code",
   "execution_count": 48,
   "metadata": {},
   "outputs": [],
   "source": [
    "import numpy as np\n",
    "x = [[2,3,4],[3,3,4]]\n",
    "x2 = np.array(x)"
   ]
  },
  {
   "cell_type": "markdown",
   "metadata": {},
   "source": [
    "### matplotlib 설치"
   ]
  },
  {
   "cell_type": "code",
   "execution_count": null,
   "metadata": {},
   "outputs": [],
   "source": [
    "! pip install matplotlib"
   ]
  },
  {
   "cell_type": "markdown",
   "metadata": {},
   "source": [
    "### numpy 설치"
   ]
  },
  {
   "cell_type": "code",
   "execution_count": 50,
   "metadata": {},
   "outputs": [
    {
     "name": "stdout",
     "output_type": "stream",
     "text": [
      "Requirement already satisfied: numpy in c:\\dev\\python\\python310\\lib\\site-packages (1.22.1)\n"
     ]
    }
   ],
   "source": [
    "! pip install numpy"
   ]
  },
  {
   "cell_type": "code",
   "execution_count": null,
   "metadata": {},
   "outputs": [],
   "source": [
    "import matplotlib.pyplot as plt\n",
    "\n",
    "x = [[0,255,100],[255,0,200]]\n",
    "plt.imshow(x,cmap='gray')\n",
    "\n",
    "x2=np.array(x)\n",
    "x3 = x2-300\n",
    "plt.imshow(x3, cmap='gray')\n",
    "\n",
    "\n"
   ]
  },
  {
   "cell_type": "markdown",
   "metadata": {},
   "source": [
    "### PILLOW 설치"
   ]
  },
  {
   "cell_type": "code",
   "execution_count": 52,
   "metadata": {},
   "outputs": [
    {
     "name": "stdout",
     "output_type": "stream",
     "text": [
      "Requirement already satisfied: PILLOW in c:\\dev\\python\\python310\\lib\\site-packages (9.0.0)\n"
     ]
    }
   ],
   "source": [
    "! pip install PILLOW"
   ]
  },
  {
   "cell_type": "markdown",
   "metadata": {},
   "source": [
    "### 이미지 불러오는 법 (PIL)\n",
    "    ## Image.open('./pic/img.jpg')\n",
    "    ## img.resize((100,200)) : 서로 같은 크키로 resize"
   ]
  },
  {
   "cell_type": "code",
   "execution_count": null,
   "metadata": {},
   "outputs": [],
   "source": [
    "from PIL import Image\n",
    "# 컬러이미지는 [R,G,B]를 갖고있고 각 R,G,B 는 0~255값 EX ) 255,0,0 은 빨강\n",
    "\n",
    "img = Image.open('./pic/img.jpg')# PIL로 이미지 불러오는 법\n",
    "img # print(img) 안해도 된다 # 사진 보자\n",
    "img = img.resize((100,200)) # 너비100, 높이 200/ 행은 200, 열은 100 # 괄호 두개는 just 문법\n",
    "img       # 같은 행렬이어야만 연산이 가능하므로 사진을 resize해주어야 한다.\n",
    "np.shape(img) \n",
    "imgArray = np.array(img)\n",
    "\n",
    "val = [[1,0,0], [0,1,0], [0,0,1]]\n",
    "\n",
    "for i in val:\n",
    "    re = imgArray *i\n",
    "    plt.imshow(re) # imshow와 show는 같이 써줘야 한다.\n",
    "    plt.show()\n",
    "    plt.imshow(img)\n",
    "    plt.show() # 이걸 안해주면 마지막 그림만 나온다.\n",
    "\n",
    "\n"
   ]
  },
  {
   "cell_type": "markdown",
   "metadata": {},
   "source": [
    "### 불러낸 이미지를 픽셀화시켜 각각의 행렬화"
   ]
  },
  {
   "cell_type": "code",
   "execution_count": null,
   "metadata": {},
   "outputs": [],
   "source": [
    "import numpy as np\n",
    "np.array(img) # 이미지 픽셀에 대한 숫자가 막 나옴"
   ]
  },
  {
   "cell_type": "code",
   "execution_count": null,
   "metadata": {},
   "outputs": [],
   "source": [
    "import os\n",
    "file_list = os.listdir('./pic/')  #폴더에 어떤 그림이 있는지 list로 알려줌\n",
    "file_list = os.listdir(folderName)\n",
    "file_list"
   ]
  },
  {
   "cell_type": "markdown",
   "metadata": {},
   "source": [
    "### 폴더 내 자료의 리스트화\n",
    "    ## os , glob\n",
    "    ## x.split('.') 사용하여 분리\n",
    "    "
   ]
  },
  {
   "cell_type": "code",
   "execution_count": 7,
   "metadata": {},
   "outputs": [
    {
     "data": {
      "text/plain": [
       "['.\\\\eee', '.\\\\pic', '.\\\\pic복사본']"
      ]
     },
     "execution_count": 7,
     "metadata": {},
     "output_type": "execute_result"
    }
   ],
   "source": [
    "import os , glob # 지금 내가 사용하고 있는 파일의 위치에 존재하는 모든 것들 나타내주는 것\n",
    "\n",
    "filter(os.path.isdir, glob.glob(\"./*\"))\n",
    "dataList=glob.glob('./*') # 카멜표기법\n",
    "\n",
    "# for x in dataList: # 객체할당\n",
    "#     print(x)\n",
    "\n",
    "# for x in range(len(dataList)): # 인덱스할당\n",
    "#     print(dataList[0])\n",
    "# x1 = dataList[0]\n",
    "# print(x1)\n",
    "\n",
    "# if '.' in x1:\n",
    "#     print('000')\n",
    "# else:\n",
    "#     print('xxx')\n",
    "\n",
    "# for i in x1[2:]: # 슬라이스작업 필요없는 인덱스 제끼고 시작\n",
    "#     if '.' in i:\n",
    "#         print('00')\n",
    "#         break\n",
    "#     else:\n",
    "#         print('xx')\n",
    "\n",
    "# if x.split('.')[1]='jpg': 확장자에 대한 정보가 jpg라면\n",
    "folderList = [] # 폴더만 가지고 오는 방법\n",
    "for x in dataList:\n",
    "    if '.' not in x[2:]:\n",
    "        folderList.append(x)\n",
    "    else:\n",
    "        pass\n",
    "folderList\n",
    "\n",
    "# 폴더만 찾는 다른 방법\n",
    "folderList = []\n",
    "for x in dataList:\n",
    "    if len(x[2:].split('.'))==1:\n",
    "        folderList.append(x)\n",
    "\n",
    "folderList\n",
    "\n",
    "\n"
   ]
  },
  {
   "cell_type": "markdown",
   "metadata": {},
   "source": [
    "## 폴더만 뽑아내는 법 완결판"
   ]
  },
  {
   "cell_type": "code",
   "execution_count": 23,
   "metadata": {},
   "outputs": [
    {
     "data": {
      "text/plain": [
       "['.\\\\eee', '.\\\\pic', '.\\\\pic복사본']"
      ]
     },
     "execution_count": 23,
     "metadata": {},
     "output_type": "execute_result"
    }
   ],
   "source": [
    "folderList = []   # 폴더만 뽑아내는 법\n",
    "\n",
    "for x in dataList:\n",
    "    if len(x[2:].split('.'))==1:\n",
    "        folderList.append(x)\n",
    "folderList\n",
    "\n"
   ]
  },
  {
   "cell_type": "code",
   "execution_count": 3,
   "metadata": {},
   "outputs": [
    {
     "data": {
      "text/plain": [
       "'./pic복사본'"
      ]
     },
     "execution_count": 3,
     "metadata": {},
     "output_type": "execute_result"
    }
   ],
   "source": [
    "import shutil\n",
    "\n",
    "folderName = './pic'\n",
    "newName = folderName +'복사본'\n",
    "shutil.copytree(\"./pic\", \"./pic복사본\") #원본, 복사되는 이름(새로생김)"
   ]
  },
  {
   "cell_type": "code",
   "execution_count": null,
   "metadata": {},
   "outputs": [],
   "source": [
    "import shutil\n",
    "\n",
    "folderList= ['./pic', './eee'] # 본인 폴더명\n",
    "\n",
    "for folderName in folderList:\n",
    "    newName = folderName + '복사본'\n",
    "    shutil.copytree(folderName,newName)\n",
    "    # 원본, 복사되는 이름(새로생김)"
   ]
  },
  {
   "cell_type": "markdown",
   "metadata": {},
   "source": [
    "### 행렬의 곱\n",
    "    ## 리스트 컴프리헨션\n",
    "    "
   ]
  },
  {
   "cell_type": "code",
   "execution_count": 17,
   "metadata": {},
   "outputs": [
    {
     "data": {
      "text/plain": [
       "numpy.ndarray"
      ]
     },
     "execution_count": 17,
     "metadata": {},
     "output_type": "execute_result"
    }
   ],
   "source": [
    "import numpy as np\n",
    "\n",
    "\n",
    "x = np.array([ [22,3,4],     #-> x는 list 형식\n",
    "            [2,2,3]])\n",
    "\n",
    "y = np.array([100,150])\n",
    "\n",
    "w = np.array([3,5,8])\n",
    "\n",
    "y1 = x*w\n",
    "\n",
    "y_hat = []\n",
    "for i in y1:\n",
    "    y_hat.append(i.sum())\n",
    "\n",
    "y_hat = [i.sum() for i in y1]\n",
    "\n",
    "\n",
    "\n",
    "y_hat-y\n",
    "\n"
   ]
  },
  {
   "cell_type": "code",
   "execution_count": null,
   "metadata": {},
   "outputs": [],
   "source": []
  }
 ],
 "metadata": {
  "interpreter": {
   "hash": "e5bc2cf9d9a3d85fb4b9cf5c2acdd222f933ac2e5b2df75a3f82eb3e684a5541"
  },
  "kernelspec": {
   "display_name": "Python 3.10.1 64-bit",
   "language": "python",
   "name": "python3"
  },
  "language_info": {
   "codemirror_mode": {
    "name": "ipython",
    "version": 3
   },
   "file_extension": ".py",
   "mimetype": "text/x-python",
   "name": "python",
   "nbconvert_exporter": "python",
   "pygments_lexer": "ipython3",
   "version": "3.10.1"
  },
  "orig_nbformat": 4
 },
 "nbformat": 4,
 "nbformat_minor": 2
}
