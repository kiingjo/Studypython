{
 "cells": [
  {
   "cell_type": "markdown",
   "metadata": {},
   "source": [
    "#### 전통적인 통계방법론을 적용한 기계학습\n",
    "    - (통계수학적 이론에 배경, 이미 잘 확립)\n",
    "    - 사이킷런 파이썬 패키지, R은 대부분\n",
    "#### 인공신경망 알고리즘을 적용한 기계학습\n",
    "    - 최소한의 통계이론만 적용\n"
   ]
  },
  {
   "cell_type": "markdown",
   "metadata": {},
   "source": [
    "* 인공지능과 관련된 수학적 알고리즘을 제공:\n",
    "    - 텐서플로우 패키지(초반에는 파이썬, C만 가능)"
   ]
  },
  {
   "cell_type": "markdown",
   "metadata": {},
   "source": [
    "* R 버전병경시는 반드시 제거후 설치\n",
    "    - 프로그램 설치된 폴더에서 잔여폴더 제거하고 R 다른버전으로 설치\n",
    "    "
   ]
  },
  {
   "cell_type": "markdown",
   "metadata": {},
   "source": [
    "* R설치 후에 R스튜디오 설치해야함.\n",
    "    - R은 인터페이스가 별로, 메모리 사용량이 R스튜디오보다 작다.\n"
   ]
  },
  {
   "cell_type": "markdown",
   "metadata": {},
   "source": []
  }
 ],
 "metadata": {
  "language_info": {
   "name": "python"
  },
  "orig_nbformat": 4
 },
 "nbformat": 4,
 "nbformat_minor": 2
}
