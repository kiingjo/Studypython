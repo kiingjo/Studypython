{
 "cells": [
  {
   "cell_type": "markdown",
   "metadata": {},
   "source": [
    "#### 전통적인 통계방법론을 적용한 기계학습\n",
    "    - (통계수학적 이론에 배경, 이미 잘 확립)\n",
    "    - 사이킷런 파이썬 패키지, R은 대부분\n",
    "#### 인공신경망 알고리즘을 적용한 기계학습\n",
    "    - 최소한의 통계이론만 적용\n"
   ]
  },
  {
   "cell_type": "markdown",
   "metadata": {},
   "source": [
    "* 인공지능과 관련된 수학적 알고리즘을 제공:\n",
    "    - 텐서플로우 패키지(초반에는 파이썬, C만 가능)"
   ]
  },
  {
   "cell_type": "markdown",
   "metadata": {},
   "source": [
    "* R 버전병경시는 반드시 제거후 설치\n",
    "    - 프로그램 설치된 폴더에서 잔여폴더 제거하고 R 다른버전으로 설치\n",
    "    "
   ]
  },
  {
   "cell_type": "markdown",
   "metadata": {},
   "source": [
    "* R설치 후에 R스튜디오 설치해야함.\n",
    "    - R은 인터페이스가 별로, 메모리 사용량이 R스튜디오보다 작다.\n"
   ]
  },
  {
   "cell_type": "markdown",
   "metadata": {},
   "source": [
    "### R 기본(파이썬과의 차이)\n",
    "    * a=2, a<-2 할당한다는 뜻 동일\n",
    "    * 인덱스 num 1부터 시작\n",
    "    * 파이썬 : len(a), R : length(a)\n",
    "    * numpy:matrix, data frame:판다스"
   ]
  },
  {
   "cell_type": "markdown",
   "metadata": {},
   "source": [
    "### R 기초\n"
   ]
  },
  {
   "cell_type": "markdown",
   "metadata": {},
   "source": [
    "    * 집계의미 O : factor -> 나누기 (split) 불가능\n",
    "    * 집계의미 X : character -> 문자열 처리 가능\n",
    "    * 실행 : ctrl + R\n",
    "        - 둘 이상의 요소를 넣을 때는 c(  )로 묶어준다"
   ]
  },
  {
   "cell_type": "markdown",
   "metadata": {},
   "source": [
    "### R 특징"
   ]
  },
  {
   "cell_type": "markdown",
   "metadata": {},
   "source": [
    "-  R에서는 명목형변수(집계 해야 할 요소)의 factor가 있음\n",
    "    - 자료형 확인은 str(변수명)으로 확인가능\n",
    "    - factor는 자료 split(글자나누기) 안되지만, 유니크한 레벨을 갖고 있다\n",
    "        - plot(변수)했을 때 count 집계가 가능함.\n",
    "    - 문자자료를 factor로 변경하는 방법은 as.factor(변수)임\n",
    "#\n",
    "#\n",
    "- factor로 지정시 명목형, 카테고리컬 변수라는 것을 암시 가능\n",
    "- charactor로 지정시 계산의 필요성을 느끼지 않아도 된다."
   ]
  },
  {
   "cell_type": "markdown",
   "metadata": {},
   "source": []
  },
  {
   "cell_type": "markdown",
   "metadata": {},
   "source": [
    "### 중요!!!\n",
    "* factor (같은 거 끼리 묶어주기위한 준비)\n",
    "    - 집계 O\n",
    "    - plot O\n",
    "    - split X\n",
    "    - 바꿀 땐 as.factor\n",
    "    - names(summary(factor(mtcars$cyl))) : summary했을 때의 namesr값\n",
    "       \n",
    "      levels(factor(mtcars$cyl)) : factor로 나타냈을 때의 levels값\n",
    "        \n",
    "      unique(mtcars$cyl) : 큰거부터 나열했을 때 중복값 없이 나타내주는 것\n",
    "\n",
    "* charactor\n",
    "    - 집계 X\n",
    "    - plot X\n",
    "    - split O\n",
    "    - 바꿀 땐 as.charctor\n",
    "* 아예 분해하고 싶을 땐 unlist"
   ]
  },
  {
   "cell_type": "markdown",
   "metadata": {},
   "source": [
    "### 데이터 분석의 일반적 순서\n",
    "\n"
   ]
  },
  {
   "cell_type": "markdown",
   "metadata": {},
   "source": [
    "1. csv 자료를 읽기위해서 작업경로를 세팅 \n",
    "     - 콘솔창에 커서를 두고 [파일-작업디렉토리변경]    R에서는 setwd('경로명')으로 작업디렉토리 변경가능\n",
    "\n"
   ]
  },
  {
   "cell_type": "markdown",
   "metadata": {},
   "source": [
    "2. dir() 을 이용하여 파일리스트 확인\n",
    "3. df=read.csv 명령어로 자료를 읽음\n",
    "     - (별도옵션없었기 때문에 가장상단은 제목,  문자는 factor로 읽음)\n",
    "     - EX) df=read.csv(\"부산광역시_현대미술관 관람객 수_20201231.csv\")\n",
    "\n",
    "4. 데이셋 샘플 확인 (위로, 아래로)\n",
    "5. 데이터의 구조를 확인 (필드명,성격을 확인등)\n",
    "     - str(df)\n",
    "6. 기술통계를 통하여서 데이터셋의 분포를 확인\n",
    "     - summary(df),   summary(df[,c(1,3)]) 등 일부데이터만 df[,c(3:12)]\n",
    "7. NA값을 반드시 확인 (summary확인, is.na(df), table(is.na(df)), barplot(table...))\n",
    "     - NA값 0으로 바꾸는 법 : df[3][is.na(df[3])]=0\n",
    "8. 참고: 시각화도 가능\n",
    "     - summary(df)\n",
    "     - par(mfrow=c(3, 1))  #차트창을 닫거나, \n",
    "          - par(mfrow=c(1,1))만날때까지 유지\n",
    "     - EX) \n",
    "          - barplot(table(is.na(df[1])),main=names(df)[1])\n",
    "          - barplot(table(is.na(df[2])),main=names(df)[2])\n",
    "          - barplot(table(is.na(df[3])),main=names(df)[3])\n",
    "\n",
    "\n",
    "\n",
    "9. NA값을 처리 (0으로대체, 중앙값이나 평균값으로대체, 0있는행을 모두 제거, 임의값대체)\n",
    "     - NA값을 0으로 수정 : df[is.na(df)]=0\n"
   ]
  },
  {
   "cell_type": "markdown",
   "metadata": {},
   "source": []
  }
 ],
 "metadata": {
  "language_info": {
   "name": "python"
  },
  "orig_nbformat": 4
 },
 "nbformat": 4,
 "nbformat_minor": 2
}
