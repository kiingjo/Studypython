{
 "cells": [
  {
   "cell_type": "markdown",
   "metadata": {},
   "source": [
    "### R 기능"
   ]
  },
  {
   "cell_type": "markdown",
   "metadata": {},
   "source": [
    "* str(df) # 어떤 구조인지 가르쳐주는 것 \n",
    "* summary(df) # 최대 최소 미들값 등 \n",
    "* table(df[,24]) ## 요소당 몇개가 있는가를 나타내주는 것.\n",
    "* ncol(iris) ## 열의 갯수 보이기 number iris로 생각\n"
   ]
  },
  {
   "cell_type": "markdown",
   "metadata": {},
   "source": [
    "* tmp01=subset(df, 시도명=='01')\n",
    "    * 시도명 중 모르는 값 있을 때 01내의 정보 파악 -> 서초구인거같다 (예상)\n",
    "    * 확인\n",
    "        - summary(as.factor(tmp01$시군구명))\n",
    "        - table(tmp01$시군구명)\n",
    "        - unique(tmp01$시군구명)      \n",
    "\n"
   ]
  },
  {
   "cell_type": "markdown",
   "metadata": {},
   "source": [
    "### 데이터 형변환"
   ]
  },
  {
   "cell_type": "markdown",
   "metadata": {},
   "source": [
    "* 데이터로 : df$시도명=factor(df$시도명)\n",
    "* 인덱스번호로 : df$시도명=factor(df$[,2])\n",
    "    * -> 열의 인덱스번호[,숫자]\n",
    "    * -> 행의 인덱스번호[숫자,]\n"
   ]
  },
  {
   "cell_type": "markdown",
   "metadata": {},
   "source": [
    "### 새롭게 설치연도를 factor 구조로 하나 더 만들기(덮어쓰기X)"
   ]
  },
  {
   "cell_type": "markdown",
   "metadata": {},
   "source": [
    "* df$설치연도Factor=factor(df$설치연도) \n",
    "* str(df)\n"
   ]
  },
  {
   "cell_type": "markdown",
   "metadata": {},
   "source": [
    "### 문자열 연결 방법"
   ]
  },
  {
   "cell_type": "markdown",
   "metadata": {},
   "source": [
    "* names(df)[1] = paste(names(df)[1], '-bu', sep='') # names(df)[1]-bu\n",
    "* str(df)"
   ]
  },
  {
   "cell_type": "markdown",
   "metadata": {},
   "source": []
  },
  {
   "cell_type": "markdown",
   "metadata": {},
   "source": [
    "### 데이터 분석 일괄 순서"
   ]
  },
  {
   "cell_type": "markdown",
   "metadata": {},
   "source": [
    "1. 데이터 불러오기\n",
    "    - fileName=\"전국무인교통단속카메라표준데이터 (1).csv\"\n",
    "    - df = read.csv(fileName)\n",
    "    - df    "
   ]
  },
  {
   "cell_type": "markdown",
   "metadata": {},
   "source": [
    "2. 컬럼명 정리\n",
    "    * names(df) 작업해서 인덱싱번호에다가 컬럼명 변경\n",
    "    * names(df) = c(' ',' '), ....\n",
    "\n",
    "    * ex) names(df)[1] = '카메라Num'"
   ]
  },
  {
   "cell_type": "markdown",
   "metadata": {},
   "source": [
    "3. 필요한 컬럼만 모아서 별도의 데이터셋 제작\n",
    "    * 첫번째, 불필요한 컬럼을 제거함으로서 수행속도를 높임\n",
    "    * 두번째, 분석하고자 하는 내용에 맞게끔 새로운 데이터프레임 구성\n",
    "        * names(df) # 먼저 요소가 어떤 인덱스인지 확인\n",
    "        * df1 = df[,c(2,3,4,7,11,13,14,16)] #원하는 컬럼만 뽑아냄\n",
    "        * str(df1) # 확인"
   ]
  },
  {
   "cell_type": "markdown",
   "metadata": {},
   "source": [
    "4. 조건에 맞는 자료만 필터링\n",
    "    *  단속구분을 unique하게 받아보기\n",
    "        * unique(df1$단속구분)\n",
    "\n",
    "    *  subset을 이용하여서 단속구분이 1인 자료만 필터링 해보세요.\n",
    "        * subset(df1, 단속구분=='1')\n",
    "        * head(subset(df1, 단속구분=='1')) # 확인\n",
    "\n",
    "    * subset을 이용하여서 단속구분이 1 제외하고 필터링\n",
    "        * != 사용\n",
    "        * head(subset(df1, 단속구분 != '1'))\n",
    "     * subset을 이용하여서 단속구분이 1이면서 (&) 시도명이 '경기도'인 자료   \n",
    "        * head(subset(df1, 단속구분 == '1' & 시도명 == '경기도')) # & 사용\n",
    "\n"
   ]
  },
  {
   "cell_type": "markdown",
   "metadata": {},
   "source": [
    "5. 자료셋을 새로 제작해서 csv로 저장하기"
   ]
  },
  {
   "cell_type": "markdown",
   "metadata": {},
   "source": [
    "### R 메모리 변수 모두 제거 \n",
    "#### rm(list=ls())\n",
    "\n",
    "* rm(list=ls())\n",
    "* ls()\n",
    "* df"
   ]
  },
  {
   "cell_type": "markdown",
   "metadata": {},
   "source": [
    "### 데이터 로드\n",
    "* df = read.csv(dir()[7], stringsAsFactors=TRUE) # character 형식을 모두 factor로\n",
    "* head(df)\n",
    "* str(df)"
   ]
  },
  {
   "cell_type": "markdown",
   "metadata": {},
   "source": [
    "### df1자료를 작업자료.csv로 저장\n",
    "* write.csv(df1, '작업자료.csv')\n",
    "* dir()"
   ]
  },
  {
   "cell_type": "markdown",
   "metadata": {},
   "source": [
    "### 결측치 패키지\n",
    "* install.packages('naniar')\n",
    "    * library(naniar)    #naniar 패키지를 불러옵니다.\n",
    "\n",
    "* naniar::vis_miss(df)\n",
    "* naniar::gg_miss_var(df)\n",
    "* naniar::gg_miss_var(df, show_pct = TRUE)\n",
    "* naniar::gg_miss_upset(df)\n",
    "\n",
    "* install.packages('VIM')\n",
    "    *library(VIM)\n",
    "    * VIM::aggr(df)\n",
    "\n",
    "#### 기본으로 하는 것 \n",
    "* install.packages('Amelia')\n",
    "    * library(Amelia)\n",
    "    * missmap(df)"
   ]
  },
  {
   "cell_type": "markdown",
   "metadata": {},
   "source": []
  }
 ],
 "metadata": {
  "language_info": {
   "name": "python"
  },
  "orig_nbformat": 4
 },
 "nbformat": 4,
 "nbformat_minor": 2
}
